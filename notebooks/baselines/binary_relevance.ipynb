{
 "metadata": {
  "language_info": {
   "codemirror_mode": {
    "name": "ipython",
    "version": 3
   },
   "file_extension": ".py",
   "mimetype": "text/x-python",
   "name": "python",
   "nbconvert_exporter": "python",
   "pygments_lexer": "ipython3",
   "version": "3.8.5-final"
  },
  "orig_nbformat": 2,
  "kernelspec": {
   "name": "python3",
   "display_name": "Python 3.8.5 64-bit ('NLP-seminar-env': conda)",
   "metadata": {
    "interpreter": {
     "hash": "a192f6a2a07440443dd9813f45d39f6276bab8996f4682d1023cc32088b348cc"
    }
   }
  }
 },
 "nbformat": 4,
 "nbformat_minor": 2,
 "cells": [
  {
   "cell_type": "code",
   "execution_count": 1,
   "metadata": {},
   "outputs": [],
   "source": [
    "#Mount Drive if running in Colab\n",
    "from sys import path\n",
    "import os\n",
    "\n",
    "if 'google.colab' in str(get_ipython()):\n",
    "  from google.colab import drive\n",
    "\n",
    "  root_PATH = '/content/drive/My Drive/nlp-seminar/repository'\n",
    "  drive_mount_location = '/content/drive'\n",
    "\n",
    "  drive.mount(drive_mount_location, force_remount=True)\n",
    "  path.append(root_PATH)\n",
    "else:\n",
    "  root_PATH = os.path.abspath(\"../..\")\n",
    "\n",
    "%load_ext autoreload\n",
    "%autoreload 2\n",
    "\n",
    "module_path = os.path.abspath(os.path.join('../../src'))\n",
    "if module_path not in sys.path:\n",
    "    sys.path.append(module_path)"
   ]
  },
  {
   "cell_type": "code",
   "execution_count": 2,
   "metadata": {},
   "outputs": [],
   "source": [
    "import pandas as pd\n",
    "from data_cleaner import DataCleaner\n",
    "from sklearn.feature_extraction.text import TfidfVectorizer\n",
    "from sklearn.naive_bayes import MultinomialNB\n",
    "from sklearn.metrics import accuracy_score\n",
    "from sklearn.multiclass import OneVsRestClassifier\n",
    "from nltk.corpus import stopwords\n",
    "from sklearn.svm import LinearSVC\n",
    "from sklearn.linear_model import LogisticRegression\n",
    "from sklearn.pipeline import Pipeline\n",
    "from wordcloud import WordCloud, STOPWORDS\n",
    "import matplotlib.pyplot as plt\n",
    "from skmultilearn.problem_transform import BinaryRelevance\n",
    "from sklearn.svm import SVC"
   ]
  },
  {
   "cell_type": "code",
   "execution_count": 3,
   "metadata": {},
   "outputs": [],
   "source": [
    "#Load datasets\n",
    "train_df = pd.read_csv(root_PATH + '/data/train.csv')\n",
    "validation_df = pd.read_csv(root_PATH + '/data/validation.csv')\n",
    "\n",
    "#train_df = train_df.head(100000)\n",
    "#validation_df = validation_df.head(100000)"
   ]
  },
  {
   "cell_type": "code",
   "execution_count": 4,
   "metadata": {},
   "outputs": [],
   "source": [
    "#Clean datasets for naive Bayes method\n",
    "train_df['Conversation'] = train_df['Conversation'].map(lambda row : DataCleaner.clean_text_naive_bayes(str(row)))\n",
    "validation_df['Conversation'] = validation_df['Conversation'].map(lambda row : DataCleaner.clean_text_naive_bayes(str(row)))"
   ]
  },
  {
   "cell_type": "code",
   "execution_count": 5,
   "metadata": {},
   "outputs": [],
   "source": [
    "#Obtain a list with all the topics in the dataset\n",
    "train_df[\"Topic\"] = train_df[\"Topic\"].apply(eval)\n",
    "validation_df[\"Topic\"] = validation_df[\"Topic\"].apply(eval)\n",
    "\n",
    "def list_to_series(series):\n",
    "    return pd.Series([x for _list in series for x in _list])"
   ]
  },
  {
   "cell_type": "code",
   "execution_count": 6,
   "metadata": {},
   "outputs": [],
   "source": [
    "#Add a boolean mask to the dataset\n",
    "def boolean_df(item_lists, unique_items):# Create empty dict\n",
    "    bool_dict = {}\n",
    "    \n",
    "    # Loop through all the tags\n",
    "    for i, item in enumerate(unique_items):\n",
    "        \n",
    "        # Apply boolean mask\n",
    "        bool_dict[item] = item_lists.apply(lambda x: item in x)\n",
    "            \n",
    "    # Return the results as a dataframe\n",
    "    return pd.DataFrame(bool_dict)\n",
    "\n",
    "train_topics = list_to_series(train_df[\"Topic\"]).value_counts().index.tolist()\n",
    "train_boolean_mask = boolean_df(train_df[\"Topic\"],train_topics).astype(int)\n",
    "\n",
    "validation_topics = list_to_series(validation_df[\"Topic\"]).value_counts().index.tolist()\n",
    "validation_boolean_mask = boolean_df(validation_df[\"Topic\"],train_topics).astype(int)"
   ]
  },
  {
   "source": [
    "## Binary Relevance Classifiers"
   ],
   "cell_type": "markdown",
   "metadata": {}
  },
  {
   "cell_type": "code",
   "execution_count": 7,
   "metadata": {},
   "outputs": [
    {
     "output_type": "stream",
     "name": "stdout",
     "text": [
      "Test accuracy is 0.5239436440624086\n"
     ]
    }
   ],
   "source": [
    "#Train and evaluate a Multinomial Naive Bayes (without stemming)\n",
    "x_train = train_df[\"Conversation\"]\n",
    "x_test = validation_df[\"Conversation\"]\n",
    "stop_words = set(stopwords.words('english'))\n",
    "\n",
    "classifier = BinaryRelevance(\n",
    "    classifier = MultinomialNB(fit_prior=True, class_prior=None),\n",
    "    require_dense = [False, True]\n",
    ")\n",
    "\n",
    "NB_pipeline = Pipeline([\n",
    "                ('tfidf', TfidfVectorizer(stop_words=stop_words)),\n",
    "                ('clf', classifier),\n",
    "            ])\n",
    "\n",
    "NB_pipeline.fit(x_train, train_boolean_mask)\n",
    "\n",
    "prediction = NB_pipeline.predict(x_test)\n",
    "\n",
    "print('Test accuracy is {}'.format(accuracy_score(validation_boolean_mask, prediction)))"
   ]
  },
  {
   "cell_type": "code",
   "execution_count": 8,
   "metadata": {},
   "outputs": [
    {
     "output_type": "stream",
     "name": "stdout",
     "text": [
      "Test accuracy is 0.6850705085004387\n"
     ]
    }
   ],
   "source": [
    "#Train and evaluate a Multinomial Naive Bayes (without stemming)\n",
    "x_train = train_df[\"Conversation\"]\n",
    "x_test = validation_df[\"Conversation\"]\n",
    "stop_words = set(stopwords.words('english'))\n",
    "\n",
    "classifier = BinaryRelevance(\n",
    "    classifier = LinearSVC(),\n",
    "    require_dense = [False, True]\n",
    ")\n",
    "\n",
    "NB_pipeline = Pipeline([\n",
    "                ('tfidf', TfidfVectorizer(stop_words=stop_words)),\n",
    "                ('clf', classifier),\n",
    "            ])\n",
    "\n",
    "NB_pipeline.fit(x_train, train_boolean_mask)\n",
    "\n",
    "prediction = NB_pipeline.predict(x_test)\n",
    "\n",
    "print('Test accuracy is {}'.format(accuracy_score(validation_boolean_mask, prediction)))"
   ]
  },
  {
   "cell_type": "code",
   "execution_count": 9,
   "metadata": {},
   "outputs": [
    {
     "output_type": "stream",
     "name": "stdout",
     "text": [
      "Test accuracy is 0.6799270119400328\n"
     ]
    }
   ],
   "source": [
    "#Train and evaluate a Multinomial Naive Bayes (without stemming)\n",
    "x_train = train_df[\"Conversation\"]\n",
    "x_test = validation_df[\"Conversation\"]\n",
    "stop_words = set(stopwords.words('english'))\n",
    "\n",
    "classifier = BinaryRelevance(\n",
    "    classifier = LogisticRegression(solver='sag'),\n",
    "    require_dense = [False, True]\n",
    ")\n",
    "\n",
    "NB_pipeline = Pipeline([\n",
    "                ('tfidf', TfidfVectorizer(stop_words=stop_words)),\n",
    "                ('clf', classifier),\n",
    "            ])\n",
    "\n",
    "NB_pipeline.fit(x_train, train_boolean_mask)\n",
    "\n",
    "prediction = NB_pipeline.predict(x_test)\n",
    "\n",
    "print('Test accuracy is {}'.format(accuracy_score(validation_boolean_mask, prediction)))"
   ]
  },
  {
   "cell_type": "code",
   "execution_count": 10,
   "metadata": {},
   "outputs": [
    {
     "output_type": "stream",
     "name": "stdout",
     "text": [
      "Test accuracy is 0.5669481072695599\n"
     ]
    }
   ],
   "source": [
    "from skmultilearn.adapt import BRkNNaClassifier\n",
    "\n",
    "x_train = train_df[\"Conversation\"].to_numpy()\n",
    "x_test = validation_df[\"Conversation\"].to_numpy()\n",
    "stop_words = set(stopwords.words('english'))\n",
    "\n",
    "classifier = BRkNNaClassifier(k=3)\n",
    "\n",
    "NB_pipeline = Pipeline([\n",
    "                ('tfidf', TfidfVectorizer(stop_words=stop_words)),\n",
    "                ('clf', classifier),\n",
    "            ])\n",
    "\n",
    "NB_pipeline.fit(x_train, train_boolean_mask.to_numpy())\n",
    "\n",
    "prediction = NB_pipeline.predict(x_test)\n",
    "\n",
    "print('Test accuracy is {}'.format(accuracy_score(validation_boolean_mask.to_numpy(), prediction)))\n",
    "\n",
    "#If you use this method please cite the relevant paper: http://scikit.ml/api/skmultilearn.adapt.brknn.html"
   ]
  }
 ]
}