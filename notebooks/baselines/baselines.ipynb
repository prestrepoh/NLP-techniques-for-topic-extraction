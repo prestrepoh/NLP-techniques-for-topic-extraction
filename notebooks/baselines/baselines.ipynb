{
 "metadata": {
  "language_info": {
   "codemirror_mode": {
    "name": "ipython",
    "version": 3
   },
   "file_extension": ".py",
   "mimetype": "text/x-python",
   "name": "python",
   "nbconvert_exporter": "python",
   "pygments_lexer": "ipython3",
   "version": "3.8.5-final"
  },
  "orig_nbformat": 2,
  "kernelspec": {
   "name": "python3",
   "display_name": "Python 3.8.5 64-bit ('NLP-seminar-env': conda)",
   "metadata": {
    "interpreter": {
     "hash": "a192f6a2a07440443dd9813f45d39f6276bab8996f4682d1023cc32088b348cc"
    }
   }
  }
 },
 "nbformat": 4,
 "nbformat_minor": 2,
 "cells": [
  {
   "cell_type": "code",
   "execution_count": 14,
   "metadata": {},
   "outputs": [
    {
     "output_type": "execute_result",
     "data": {
      "text/plain": [
       "         Unnamed: 0                                       Conversation  \\\n",
       "0                 0                                               Good   \n",
       "1                 1                Super easy to get and comfortable 👍   \n",
       "2                 2                                      excellent 👌👌👌   \n",
       "3                 3  At times, the listings leave out important det...   \n",
       "4                 4                                          great app   \n",
       "...             ...                                                ...   \n",
       "1048570     1048570          it is not working and i hate this app now   \n",
       "1048571     1048571                                    its a great app   \n",
       "1048572     1048572                            So Good I Love this app   \n",
       "1048573     1048573  its the thing i use evry day p.s. dont mined m...   \n",
       "1048574     1048574                        Wow this app a very good gg   \n",
       "\n",
       "         Rating Sentiment Language  \\\n",
       "0             4  positive  English   \n",
       "1             4  positive  English   \n",
       "2             5  positive  English   \n",
       "3             4     mixed  English   \n",
       "4             5  positive  English   \n",
       "...         ...       ...      ...   \n",
       "1048570       5     mixed  English   \n",
       "1048571       4  positive  English   \n",
       "1048572       3  positive  English   \n",
       "1048573       5  positive  English   \n",
       "1048574       5  positive  English   \n",
       "\n",
       "                                                  Topic Device Translation  \n",
       "0                                                    []    NaN         NaN  \n",
       "1        [\"Complexity\", \"Satisfied users\", \"Use cases\"]    NaN         NaN  \n",
       "2                                   [\"Satisfied users\"]    NaN         NaN  \n",
       "3                                                    []    NaN         NaN  \n",
       "4                                   [\"Satisfied users\"]    NaN         NaN  \n",
       "...                                                 ...    ...         ...  \n",
       "1048570                                        [\"Bugs\"]    NaN         NaN  \n",
       "1048571                             [\"Satisfied users\"]    NaN         NaN  \n",
       "1048572                                              []    NaN         NaN  \n",
       "1048573                                              []    NaN         NaN  \n",
       "1048574                             [\"Satisfied users\"]    NaN         NaN  \n",
       "\n",
       "[1048575 rows x 8 columns]"
      ],
      "text/html": "<div>\n<style scoped>\n    .dataframe tbody tr th:only-of-type {\n        vertical-align: middle;\n    }\n\n    .dataframe tbody tr th {\n        vertical-align: top;\n    }\n\n    .dataframe thead th {\n        text-align: right;\n    }\n</style>\n<table border=\"1\" class=\"dataframe\">\n  <thead>\n    <tr style=\"text-align: right;\">\n      <th></th>\n      <th>Unnamed: 0</th>\n      <th>Conversation</th>\n      <th>Rating</th>\n      <th>Sentiment</th>\n      <th>Language</th>\n      <th>Topic</th>\n      <th>Device</th>\n      <th>Translation</th>\n    </tr>\n  </thead>\n  <tbody>\n    <tr>\n      <th>0</th>\n      <td>0</td>\n      <td>Good</td>\n      <td>4</td>\n      <td>positive</td>\n      <td>English</td>\n      <td>[]</td>\n      <td>NaN</td>\n      <td>NaN</td>\n    </tr>\n    <tr>\n      <th>1</th>\n      <td>1</td>\n      <td>Super easy to get and comfortable 👍</td>\n      <td>4</td>\n      <td>positive</td>\n      <td>English</td>\n      <td>[\"Complexity\", \"Satisfied users\", \"Use cases\"]</td>\n      <td>NaN</td>\n      <td>NaN</td>\n    </tr>\n    <tr>\n      <th>2</th>\n      <td>2</td>\n      <td>excellent 👌👌👌</td>\n      <td>5</td>\n      <td>positive</td>\n      <td>English</td>\n      <td>[\"Satisfied users\"]</td>\n      <td>NaN</td>\n      <td>NaN</td>\n    </tr>\n    <tr>\n      <th>3</th>\n      <td>3</td>\n      <td>At times, the listings leave out important det...</td>\n      <td>4</td>\n      <td>mixed</td>\n      <td>English</td>\n      <td>[]</td>\n      <td>NaN</td>\n      <td>NaN</td>\n    </tr>\n    <tr>\n      <th>4</th>\n      <td>4</td>\n      <td>great app</td>\n      <td>5</td>\n      <td>positive</td>\n      <td>English</td>\n      <td>[\"Satisfied users\"]</td>\n      <td>NaN</td>\n      <td>NaN</td>\n    </tr>\n    <tr>\n      <th>...</th>\n      <td>...</td>\n      <td>...</td>\n      <td>...</td>\n      <td>...</td>\n      <td>...</td>\n      <td>...</td>\n      <td>...</td>\n      <td>...</td>\n    </tr>\n    <tr>\n      <th>1048570</th>\n      <td>1048570</td>\n      <td>it is not working and i hate this app now</td>\n      <td>5</td>\n      <td>mixed</td>\n      <td>English</td>\n      <td>[\"Bugs\"]</td>\n      <td>NaN</td>\n      <td>NaN</td>\n    </tr>\n    <tr>\n      <th>1048571</th>\n      <td>1048571</td>\n      <td>its a great app</td>\n      <td>4</td>\n      <td>positive</td>\n      <td>English</td>\n      <td>[\"Satisfied users\"]</td>\n      <td>NaN</td>\n      <td>NaN</td>\n    </tr>\n    <tr>\n      <th>1048572</th>\n      <td>1048572</td>\n      <td>So Good I Love this app</td>\n      <td>3</td>\n      <td>positive</td>\n      <td>English</td>\n      <td>[]</td>\n      <td>NaN</td>\n      <td>NaN</td>\n    </tr>\n    <tr>\n      <th>1048573</th>\n      <td>1048573</td>\n      <td>its the thing i use evry day p.s. dont mined m...</td>\n      <td>5</td>\n      <td>positive</td>\n      <td>English</td>\n      <td>[]</td>\n      <td>NaN</td>\n      <td>NaN</td>\n    </tr>\n    <tr>\n      <th>1048574</th>\n      <td>1048574</td>\n      <td>Wow this app a very good gg</td>\n      <td>5</td>\n      <td>positive</td>\n      <td>English</td>\n      <td>[\"Satisfied users\"]</td>\n      <td>NaN</td>\n      <td>NaN</td>\n    </tr>\n  </tbody>\n</table>\n<p>1048575 rows × 8 columns</p>\n</div>"
     },
     "metadata": {},
     "execution_count": 14
    }
   ],
   "source": [
    "import pandas as pd\n",
    "\n",
    "pd.read_csv('../../data/data.csv')"
   ]
  }
 ]
}