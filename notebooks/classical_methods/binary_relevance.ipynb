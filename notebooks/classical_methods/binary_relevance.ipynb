{
 "metadata": {
  "language_info": {
   "codemirror_mode": {
    "name": "ipython",
    "version": 3
   },
   "file_extension": ".py",
   "mimetype": "text/x-python",
   "name": "python",
   "nbconvert_exporter": "python",
   "pygments_lexer": "ipython3",
   "version": "3.8.5-final"
  },
  "orig_nbformat": 2,
  "kernelspec": {
   "name": "python3",
   "display_name": "Python 3.8.5 64-bit ('NLP-seminar-env': conda)",
   "metadata": {
    "interpreter": {
     "hash": "a192f6a2a07440443dd9813f45d39f6276bab8996f4682d1023cc32088b348cc"
    }
   }
  }
 },
 "nbformat": 4,
 "nbformat_minor": 2,
 "cells": [
  {
   "cell_type": "code",
   "execution_count": 1,
   "metadata": {},
   "outputs": [],
   "source": [
    "#Mount Drive if running in Colab\n",
    "from sys import path\n",
    "import os\n",
    "\n",
    "if 'google.colab' in str(get_ipython()):\n",
    "  from google.colab import drive\n",
    "\n",
    "  root_PATH = '/content/drive/My Drive/nlp-seminar/repository'\n",
    "  drive_mount_location = '/content/drive'\n",
    "\n",
    "  drive.mount(drive_mount_location, force_remount=True)\n",
    "  path.append(root_PATH)\n",
    "else:\n",
    "  root_PATH = os.path.abspath(\"../..\")\n",
    "\n",
    "%load_ext autoreload\n",
    "%autoreload 2\n",
    "\n",
    "module_path = os.path.abspath(os.path.join('../../src'))\n",
    "if module_path not in sys.path:\n",
    "    sys.path.append(module_path)"
   ]
  },
  {
   "cell_type": "code",
   "execution_count": 2,
   "metadata": {},
   "outputs": [],
   "source": [
    "from data_cleaner import DataCleaner\n",
    "from data_processor import DataProcessor\n",
    "from model_evaluator import ModelEvaluator\n",
    "\n",
    "import pandas as pd\n",
    "from data_cleaner import DataCleaner\n",
    "from sklearn.feature_extraction.text import TfidfVectorizer\n",
    "from sklearn.naive_bayes import MultinomialNB\n",
    "from sklearn.metrics import accuracy_score\n",
    "from sklearn.multiclass import OneVsRestClassifier\n",
    "from nltk.corpus import stopwords\n",
    "from sklearn.svm import LinearSVC\n",
    "from sklearn.linear_model import LogisticRegression\n",
    "from sklearn.pipeline import Pipeline\n",
    "from wordcloud import WordCloud, STOPWORDS\n",
    "import matplotlib.pyplot as plt\n",
    "from skmultilearn.problem_transform import BinaryRelevance\n",
    "from sklearn.svm import SVC"
   ]
  },
  {
   "cell_type": "code",
   "execution_count": 3,
   "metadata": {},
   "outputs": [],
   "source": [
    "#Configuration variables\n",
    "#remove under-represented categories below this threshold\n",
    "underrepresented_threshold = 3000"
   ]
  },
  {
   "cell_type": "code",
   "execution_count": 4,
   "metadata": {},
   "outputs": [],
   "source": [
    "#Load datasets\n",
    "train_df = pd.read_csv(root_PATH + '/data/train.csv')\n",
    "validation_df = pd.read_csv(root_PATH + '/data/validation.csv')\n",
    "\n",
    "#Convert topics column to list\n",
    "train_df[\"Topic\"] = train_df[\"Topic\"].apply(eval)\n",
    "validation_df[\"Topic\"] = validation_df[\"Topic\"].apply(eval)"
   ]
  },
  {
   "cell_type": "code",
   "execution_count": 5,
   "metadata": {},
   "outputs": [],
   "source": [
    "#Clean datasets for classical methods\n",
    "train_df['Conversation'] = train_df['Conversation'].map(lambda row : DataCleaner.clean_text_for_classical_methods(str(row)))\n",
    "validation_df['Conversation'] = validation_df['Conversation'].map(lambda row : DataCleaner.clean_text_for_classical_methods(str(row)))"
   ]
  },
  {
   "cell_type": "code",
   "execution_count": 6,
   "metadata": {},
   "outputs": [],
   "source": [
    "#Generate boolean masks for our datasets\n",
    "train_boolean_mask = DataProcessor.obtain_boolean_mask_from_dataset(train_df)\n",
    "validation_boolean_mask = DataProcessor.obtain_boolean_mask_from_dataset(validation_df)\n",
    "\n",
    "#Remove underrepresented topics\n",
    "underrepresented_topics = DataProcessor.get_underrepresented_topics(train_df,underrepresented_threshold)\n",
    "\n",
    "train_df, remaining_topics = DataProcessor.remove_topics_from_dataset(train_df,train_boolean_mask,underrepresented_topics)\n",
    "validation_df, _ = DataProcessor.remove_topics_from_dataset(validation_df,validation_boolean_mask,underrepresented_topics)\n",
    "\n",
    "#Get boolean masks of our new dataset\n",
    "train_boolean_mask = train_df.iloc[:,9:]\n",
    "validation_boolean_mask = validation_df.iloc[:,9:]"
   ]
  },
  {
   "source": [
    "## Binary Relevance Classifiers"
   ],
   "cell_type": "markdown",
   "metadata": {}
  },
  {
   "cell_type": "code",
   "execution_count": 7,
   "metadata": {},
   "outputs": [
    {
     "output_type": "stream",
     "name": "stdout",
     "text": [
      "total accuracy: 0.5236725734101104\naccuracy per label: {'Satisfied users': 0.8403588585244807, 'Bugs': 0.9192504692520599, 'Design & UX': 0.9251932682212961, 'Dissatisfied users': 0.9310024496548214, 'Performance': 0.9515413737155219, 'Use cases': 0.9519613145420418, 'Gaming': 0.9571024082970127, 'Feature Requests': 0.9590812203734929, 'Complexity': 0.9695670155568988, 'Security & Accounts': 0.9718003372252092, 'Update': 0.9726274933986575, 'Pricing': 0.9716858079088856, 'Camera & Photos': 0.9750453345210448, 'Video': 0.9755988928832755, 'Customer Support': 0.9751153246587981, 'Notifications & Alerts': 0.9778067635924029, 'Frequency': 0.978926605796456, 'Advertising': 0.9841567779085675, 'Payment': 0.9828396907708459, 'Connectivity': 0.9819679954188274, 'Devices': 0.9840867877708142, 'Audio': 0.9856329335411829, 'Sign Up & Login': 0.9883052842554004, 'Location Services': 0.992644672796106, 'Privacy': 0.9947952788470715, 'Internationalization': 0.9956733369388859, 'no topic': 0.9128070232062744}\n"
     ]
    }
   ],
   "source": [
    "#Train and evaluate a Multinomial Naive Bayes (without stemming)\n",
    "x_train = train_df[\"Conversation\"]\n",
    "x_test = validation_df[\"Conversation\"]\n",
    "stop_words = set(stopwords.words('english'))\n",
    "\n",
    "classifier = BinaryRelevance(\n",
    "    classifier = MultinomialNB(fit_prior=True, class_prior=None),\n",
    "    require_dense = [False, True]\n",
    ")\n",
    "\n",
    "NB_pipeline = Pipeline([\n",
    "                ('tfidf', TfidfVectorizer(stop_words=stop_words)),\n",
    "                ('clf', classifier),\n",
    "            ])\n",
    "\n",
    "NB_pipeline.fit(x_train, train_boolean_mask)\n",
    "\n",
    "predictions = NB_pipeline.predict(x_test)\n",
    "total_accuracy = ModelEvaluator.get_total_accuracy(validation_boolean_mask, predictions)\n",
    "accuracy_per_label = ModelEvaluator.get_accuracy_per_label(remaining_topics, validation_boolean_mask.to_numpy(), predictions.toarray())\n",
    "\n",
    "print(f\"total accuracy: {total_accuracy}\")\n",
    "print(f\"accuracy per label: {accuracy_per_label}\")"
   ]
  },
  {
   "cell_type": "code",
   "execution_count": 8,
   "metadata": {},
   "outputs": [
    {
     "output_type": "stream",
     "name": "stdout",
     "text": [
      "total accuracy: 0.6553876499220564\naccuracy per label: {'Satisfied users': 0.8671714440237966, 'Bugs': 0.9654757738682277, 'Design & UX': 0.9715903668119492, 'Dissatisfied users': 0.9556644291031718, 'Performance': 0.9875544809595012, 'Use cases': 0.9615817771132249, 'Gaming': 0.9826615340565648, 'Feature Requests': 0.9692043393885407, 'Complexity': 0.9896923615308751, 'Security & Accounts': 0.9509941780930868, 'Update': 0.9534247446950657, 'Pricing': 0.954277351827697, 'Camera & Photos': 0.9966786498266154, 'Video': 0.9980720898418859, 'Customer Support': 0.9919447714185728, 'Notifications & Alerts': 0.9982884229949416, 'Frequency': 0.9881716667196895, 'Advertising': 0.9976012470969999, 'Payment': 0.9961441796837718, 'Connectivity': 0.9959278465307161, 'Devices': 0.9959787484490822, 'Audio': 0.9981039035408646, 'Sign Up & Login': 0.9937072503419973, 'Location Services': 0.9992746476632838, 'Privacy': 0.9982184328571883, 'Internationalization': 0.9991537556071645, 'no topic': 0.8634412419714037}\n"
     ]
    }
   ],
   "source": [
    "#Train and evaluate a SVC\n",
    "x_train = train_df[\"Conversation\"]\n",
    "x_test = validation_df[\"Conversation\"]\n",
    "stop_words = set(stopwords.words('english'))\n",
    "\n",
    "classifier = BinaryRelevance(\n",
    "    classifier = LinearSVC(),\n",
    "    require_dense = [False, True]\n",
    ")\n",
    "\n",
    "NB_pipeline = Pipeline([\n",
    "                ('tfidf', TfidfVectorizer(stop_words=stop_words)),\n",
    "                ('clf', classifier),\n",
    "            ])\n",
    "\n",
    "NB_pipeline.fit(x_train, train_boolean_mask)\n",
    "\n",
    "predictions = NB_pipeline.predict(x_test)\n",
    "total_accuracy = ModelEvaluator.get_total_accuracy(validation_boolean_mask, predictions)\n",
    "accuracy_per_label = ModelEvaluator.get_accuracy_per_label(remaining_topics, validation_boolean_mask.to_numpy(), predictions.todense())\n",
    "\n",
    "print(f\"total accuracy: {total_accuracy}\")\n",
    "print(f\"accuracy per label: {accuracy_per_label}\")"
   ]
  },
  {
   "cell_type": "code",
   "execution_count": 9,
   "metadata": {},
   "outputs": [
    {
     "output_type": "stream",
     "name": "stdout",
     "text": [
      "total accuracy: 0.6524417013966214\naccuracy per label: {'Satisfied users': 0.8707218528298285, 'Bugs': 0.964814048929469, 'Design & UX': 0.9699678681640315, 'Dissatisfied users': 0.9562370756847899, 'Performance': 0.9859001686126045, 'Use cases': 0.9613336302611905, 'Gaming': 0.9814780644545541, 'Feature Requests': 0.9687971240416123, 'Complexity': 0.990035949479846, 'Security & Accounts': 0.952400343587949, 'Update': 0.9535074603124105, 'Pricing': 0.9549390767664556, 'Camera & Photos': 0.9955778958419496, 'Video': 0.9973467375051698, 'Customer Support': 0.9915693697706233, 'Notifications & Alerts': 0.9972703846276206, 'Frequency': 0.9876308338370502, 'Advertising': 0.9966213851684536, 'Payment': 0.9952597588521618, 'Connectivity': 0.9949225336429867, 'Devices': 0.9951006903572679, 'Audio': 0.996894982979671, 'Sign Up & Login': 0.9935100054083288, 'Location Services': 0.9984538542296313, 'Privacy': 0.9974676295612891, 'Internationalization': 0.9982120701173925, 'no topic': 0.858002775715715}\n"
     ]
    }
   ],
   "source": [
    "#Train and evaluate a Logistic Regression\n",
    "x_train = train_df[\"Conversation\"]\n",
    "x_test = validation_df[\"Conversation\"]\n",
    "stop_words = set(stopwords.words('english'))\n",
    "\n",
    "classifier = BinaryRelevance(\n",
    "    classifier = LogisticRegression(solver='sag'),\n",
    "    require_dense = [False, True]\n",
    ")\n",
    "\n",
    "NB_pipeline = Pipeline([\n",
    "                ('tfidf', TfidfVectorizer(stop_words=stop_words)),\n",
    "                ('clf', classifier),\n",
    "            ])\n",
    "\n",
    "NB_pipeline.fit(x_train, train_boolean_mask)\n",
    "\n",
    "predictions = NB_pipeline.predict(x_test)\n",
    "total_accuracy = ModelEvaluator.get_total_accuracy(validation_boolean_mask, predictions)\n",
    "accuracy_per_label = ModelEvaluator.get_accuracy_per_label(remaining_topics, validation_boolean_mask.to_numpy(), predictions.todense())\n",
    "\n",
    "print(f\"total accuracy: {total_accuracy}\")\n",
    "print(f\"accuracy per label: {accuracy_per_label}\")"
   ]
  },
  {
   "cell_type": "code",
   "execution_count": 10,
   "metadata": {},
   "outputs": [
    {
     "output_type": "stream",
     "name": "stdout",
     "text": [
      "total accuracy: 0.560067445041835\naccuracy per label: {'Satisfied users': 0.8361658129990774, 'Bugs': 0.9060096077370916, 'Design & UX': 0.9359972003944899, 'Dissatisfied users': 0.9354754557312379, 'Performance': 0.959832023669392, 'Use cases': 0.9575350746031241, 'Gaming': 0.9681099481436707, 'Feature Requests': 0.9608882384754875, 'Complexity': 0.9792447427862437, 'Security & Accounts': 0.9662011262049438, 'Update': 0.9667292336079916, 'Pricing': 0.9690389081538511, 'Camera & Photos': 0.9802691438933605, 'Video': 0.9796201444341933, 'Customer Support': 0.9784175866127954, 'Notifications & Alerts': 0.9809754080106894, 'Frequency': 0.9806572710209016, 'Advertising': 0.9881462157605064, 'Payment': 0.9837813762606178, 'Connectivity': 0.9848248655871218, 'Devices': 0.986231031081984, 'Audio': 0.9874781280819521, 'Sign Up & Login': 0.990793115515541, 'Location Services': 0.9936690739032227, 'Privacy': 0.9955715331021537, 'Internationalization': 0.9963923265358063, 'no topic': 0.8774005099570732}\n"
     ]
    }
   ],
   "source": [
    "#Train and evaluate a KNN classifier\n",
    "from skmultilearn.adapt import BRkNNaClassifier\n",
    "\n",
    "x_train = train_df[\"Conversation\"].to_numpy()\n",
    "x_test = validation_df[\"Conversation\"].to_numpy()\n",
    "stop_words = set(stopwords.words('english'))\n",
    "\n",
    "classifier = BRkNNaClassifier(k=3)\n",
    "\n",
    "NB_pipeline = Pipeline([\n",
    "                ('tfidf', TfidfVectorizer(stop_words=stop_words)),\n",
    "                ('clf', classifier),\n",
    "            ])\n",
    "\n",
    "NB_pipeline.fit(x_train, train_boolean_mask.to_numpy())\n",
    "\n",
    "predictions = NB_pipeline.predict(x_test)\n",
    "total_accuracy = ModelEvaluator.get_total_accuracy(validation_boolean_mask, predictions)\n",
    "accuracy_per_label = ModelEvaluator.get_accuracy_per_label(remaining_topics, validation_boolean_mask.to_numpy(), predictions.todense())\n",
    "\n",
    "print(f\"total accuracy: {total_accuracy}\")\n",
    "print(f\"accuracy per label: {accuracy_per_label}\")\n",
    "\n",
    "#If you use this method please cite the relevant paper: http://scikit.ml/api/skmultilearn.adapt.brknn.html"
   ]
  }
 ]
}