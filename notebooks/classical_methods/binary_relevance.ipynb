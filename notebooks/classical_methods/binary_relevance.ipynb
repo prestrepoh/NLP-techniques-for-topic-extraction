{
 "metadata": {
  "language_info": {
   "codemirror_mode": {
    "name": "ipython",
    "version": 3
   },
   "file_extension": ".py",
   "mimetype": "text/x-python",
   "name": "python",
   "nbconvert_exporter": "python",
   "pygments_lexer": "ipython3",
   "version": "3.8.5-final"
  },
  "orig_nbformat": 2,
  "kernelspec": {
   "name": "python3",
   "display_name": "Python 3.8.5 64-bit ('NLP-seminar-env': conda)",
   "metadata": {
    "interpreter": {
     "hash": "a192f6a2a07440443dd9813f45d39f6276bab8996f4682d1023cc32088b348cc"
    }
   }
  }
 },
 "nbformat": 4,
 "nbformat_minor": 2,
 "cells": [
  {
   "cell_type": "code",
   "execution_count": 1,
   "metadata": {},
   "outputs": [],
   "source": [
    "#Mount Drive if running in Colab\n",
    "from sys import path\n",
    "import os\n",
    "\n",
    "if 'google.colab' in str(get_ipython()):\n",
    "  from google.colab import drive\n",
    "\n",
    "  root_PATH = '/content/drive/My Drive/nlp-seminar/repository'\n",
    "  drive_mount_location = '/content/drive'\n",
    "\n",
    "  drive.mount(drive_mount_location, force_remount=True)\n",
    "  path.append(root_PATH)\n",
    "else:\n",
    "  root_PATH = os.path.abspath(\"../..\")\n",
    "\n",
    "%load_ext autoreload\n",
    "%autoreload 2\n",
    "\n",
    "module_path = os.path.abspath(os.path.join('../../src'))\n",
    "if module_path not in sys.path:\n",
    "    sys.path.append(module_path)"
   ]
  },
  {
   "cell_type": "code",
   "execution_count": 2,
   "metadata": {},
   "outputs": [],
   "source": [
    "from data_cleaner import DataCleaner\n",
    "from data_processor import DataProcessor\n",
    "from model_evaluator import ModelEvaluator\n",
    "\n",
    "import pandas as pd\n",
    "from sklearn.feature_extraction.text import TfidfVectorizer\n",
    "from sklearn.naive_bayes import MultinomialNB\n",
    "from sklearn.metrics import accuracy_score\n",
    "from sklearn.multiclass import OneVsRestClassifier\n",
    "from nltk.corpus import stopwords\n",
    "from sklearn.svm import LinearSVC\n",
    "from sklearn.linear_model import LogisticRegression\n",
    "from sklearn.pipeline import Pipeline\n",
    "from wordcloud import WordCloud, STOPWORDS\n",
    "import matplotlib.pyplot as plt\n",
    "from skmultilearn.problem_transform import BinaryRelevance\n",
    "from sklearn.svm import SVC\n",
    "from joblib import dump, load"
   ]
  },
  {
   "cell_type": "code",
   "execution_count": 3,
   "metadata": {},
   "outputs": [],
   "source": [
    "#Configuration variables\n",
    "models_location = root_PATH + '/models/classical_methods'"
   ]
  },
  {
   "cell_type": "code",
   "execution_count": 4,
   "metadata": {},
   "outputs": [],
   "source": [
    "#Load datasets\n",
    "train_df = pd.read_csv(root_PATH + '/data/train.csv')\n",
    "validation_df = pd.read_csv(root_PATH + '/data/validation.csv')\n",
    "\n",
    "#Get boolean mask of the datasets\n",
    "train_boolean_mask = train_df.iloc[:,8:]\n",
    "validation_boolean_mask = validation_df.iloc[:,8:]\n",
    "\n",
    "#Get topics present in the dataset\n",
    "remaining_topics = train_boolean_mask.columns.tolist()"
   ]
  },
  {
   "cell_type": "code",
   "execution_count": 5,
   "metadata": {},
   "outputs": [],
   "source": [
    "#Clean datasets for classical methods\n",
    "train_df['conversation'] = train_df['conversation'].map(lambda row : DataCleaner.clean_text_for_classical_methods(str(row)))\n",
    "validation_df['conversation'] = validation_df['conversation'].map(lambda row : DataCleaner.clean_text_for_classical_methods(str(row)))"
   ]
  },
  {
   "source": [
    "## Binary Relevance Classifiers"
   ],
   "cell_type": "markdown",
   "metadata": {}
  },
  {
   "cell_type": "code",
   "execution_count": 6,
   "metadata": {},
   "outputs": [
    {
     "output_type": "stream",
     "name": "stdout",
     "text": [
      "total accuracy: 0.5254664553215056\naccuracy per label: {'Satisfied users': 0.8413256179617924, 'Bugs': 0.9189885988197773, 'Design & UX': 0.9262774605478423, 'Dissatisfied users': 0.9310772873975899, 'Performance': 0.9519126100490805, 'Use cases': 0.9518362202318431, 'Gaming': 0.9580492587004819, 'Feature Requests': 0.9593542514116201, 'Complexity': 0.9704116774567284, 'Pricing': 0.973142613422964, 'Security & Accounts': 0.9732635639669233, 'Update': 0.9723468861600748, 'Camera & Photos': 0.9738428534143065, 'Video': 0.9755807217564565, 'Customer Support': 0.9750523588538981, 'Notifications & Alerts': 0.9771912737365442, 'Frequency': 0.9789546053511067, 'Advertising': 0.9838371878361948, 'Payment': 0.9826595114871187, 'Connectivity': 0.9819083449509514, 'Devices': 0.9836844082017201, 'Audio': 0.9854923005430043, 'Sign Up & Login': 0.9880258961480435, 'Location Services': 0.9927684306348631, 'Privacy': 0.9948118582459625, 'Internationalization': 0.99584948659677, 'no topic': 0.9114977307110439}\n"
     ]
    }
   ],
   "source": [
    "#Train and evaluate a Multinomial Naive Bayes Classifier\n",
    "x_train = train_df[\"conversation\"]\n",
    "x_test = validation_df[\"conversation\"]\n",
    "stop_words = set(stopwords.words('english'))\n",
    "\n",
    "classifier = BinaryRelevance(\n",
    "    classifier = MultinomialNB(fit_prior=True, class_prior=None),\n",
    "    require_dense = [False, True]\n",
    ")\n",
    "\n",
    "NB_pipeline = Pipeline([\n",
    "                ('tfidf', TfidfVectorizer(stop_words=stop_words)),\n",
    "                ('clf', classifier),\n",
    "            ])\n",
    "\n",
    "NB_pipeline.fit(x_train, train_boolean_mask)\n",
    "\n",
    "#Save model\n",
    "dump(NB_pipeline, models_location + '/naive_bayes.joblib')\n",
    "\n",
    "predictions = NB_pipeline.predict(x_test)\n",
    "total_accuracy = ModelEvaluator.get_total_accuracy(validation_boolean_mask, predictions)\n",
    "accuracy_per_label = ModelEvaluator.get_accuracy_per_label(remaining_topics, validation_boolean_mask.to_numpy(), predictions.toarray())\n",
    "\n",
    "print(f\"total accuracy: {total_accuracy}\")\n",
    "print(f\"accuracy per label: {accuracy_per_label}\")"
   ]
  },
  {
   "cell_type": "code",
   "execution_count": 7,
   "metadata": {},
   "outputs": [
    {
     "output_type": "stream",
     "name": "stdout",
     "text": [
      "total accuracy: 0.6850575151665617\naccuracy per label: {'Satisfied users': 0.8664196729242659, 'Bugs': 0.9658601175130022, 'Design & UX': 0.9714811348980514, 'Dissatisfied users': 0.9550700558282248, 'Performance': 0.9877458001515065, 'Use cases': 0.9614868004761632, 'Gaming': 0.982672243123325, 'Feature Requests': 0.9691512454723119, 'Complexity': 0.9899165441246682, 'Pricing': 0.9899992997600087, 'Security & Accounts': 0.9942580320709916, 'Update': 0.9882232365092399, 'Camera & Photos': 0.9967152378587935, 'Video': 0.9982175709311282, 'Customer Support': 0.9924565055478105, 'Notifications & Alerts': 0.9979565723889006, 'Frequency': 0.9880195303299404, 'Advertising': 0.9974536727587546, 'Payment': 0.9962123382286474, 'Connectivity': 0.9956457804174703, 'Devices': 0.9961932407743381, 'Audio': 0.9979565723889006, 'Sign Up & Login': 0.9935386946253397, 'Location Services': 0.9992233701914202, 'Privacy': 0.9982112051130251, 'Internationalization': 0.9990896880112548, 'no topic': 0.860720378536711}\n"
     ]
    }
   ],
   "source": [
    "#Train and evaluate a SVC\n",
    "x_train = train_df[\"conversation\"]\n",
    "x_test = validation_df[\"conversation\"]\n",
    "stop_words = set(stopwords.words('english'))\n",
    "\n",
    "classifier = BinaryRelevance(\n",
    "    classifier = LinearSVC(),\n",
    "    require_dense = [False, True]\n",
    ")\n",
    "\n",
    "NB_pipeline = Pipeline([\n",
    "                ('tfidf', TfidfVectorizer(stop_words=stop_words)),\n",
    "                ('clf', classifier),\n",
    "            ])\n",
    "\n",
    "NB_pipeline.fit(x_train, train_boolean_mask)\n",
    "\n",
    "#Save model\n",
    "dump(NB_pipeline, models_location + '/SVC.joblib')\n",
    "\n",
    "predictions = NB_pipeline.predict(x_test)\n",
    "total_accuracy = ModelEvaluator.get_total_accuracy(validation_boolean_mask, predictions)\n",
    "accuracy_per_label = ModelEvaluator.get_accuracy_per_label(remaining_topics, validation_boolean_mask.to_numpy(), predictions.todense())\n",
    "\n",
    "print(f\"total accuracy: {total_accuracy}\")\n",
    "print(f\"accuracy per label: {accuracy_per_label}\")"
   ]
  },
  {
   "cell_type": "code",
   "execution_count": 8,
   "metadata": {},
   "outputs": [
    {
     "output_type": "stream",
     "name": "stdout",
     "text": [
      "total accuracy: 0.6810024890348784\naccuracy per label: {'Satisfied users': 0.8715568881334784, 'Bugs': 0.9651853407940721, 'Design & UX': 0.9700488258248509, 'Dissatisfied users': 0.9561649765419603, 'Performance': 0.986256198715378, 'Use cases': 0.9616268484744317, 'Gaming': 0.9811890075052996, 'Feature Requests': 0.968597419297341, 'Complexity': 0.9902157375755145, 'Pricing': 0.9886497463221486, 'Security & Accounts': 0.99237374991247, 'Update': 0.9866381478015647, 'Camera & Photos': 0.9957730967795326, 'Video': 0.9976255498475387, 'Customer Support': 0.9916862415573338, 'Notifications & Alerts': 0.9967916276760308, 'Frequency': 0.9874084117920414, 'Advertising': 0.9965560924062156, 'Payment': 0.9952765629674898, 'Connectivity': 0.9944553724321881, 'Devices': 0.9950983200606026, 'Audio': 0.9968425542208557, 'Sign Up & Login': 0.9933158909917308, 'Location Services': 0.9984021796561185, 'Privacy': 0.9973581854872079, 'Internationalization': 0.9983257898388811, 'no topic': 0.857340586474394}\n"
     ]
    }
   ],
   "source": [
    "#Train and evaluate a Logistic Regression\n",
    "x_train = train_df[\"conversation\"]\n",
    "x_test = validation_df[\"conversation\"]\n",
    "stop_words = set(stopwords.words('english'))\n",
    "\n",
    "classifier = BinaryRelevance(\n",
    "    classifier = LogisticRegression(solver='sag'),\n",
    "    require_dense = [False, True]\n",
    ")\n",
    "\n",
    "NB_pipeline = Pipeline([\n",
    "                ('tfidf', TfidfVectorizer(stop_words=stop_words)),\n",
    "                ('clf', classifier),\n",
    "            ])\n",
    "\n",
    "NB_pipeline.fit(x_train, train_boolean_mask)\n",
    "\n",
    "#Save model\n",
    "dump(NB_pipeline, models_location + '/logistic_regression.joblib')\n",
    "\n",
    "predictions = NB_pipeline.predict(x_test)\n",
    "total_accuracy = ModelEvaluator.get_total_accuracy(validation_boolean_mask, predictions)\n",
    "accuracy_per_label = ModelEvaluator.get_accuracy_per_label(remaining_topics, validation_boolean_mask.to_numpy(), predictions.todense())\n",
    "\n",
    "print(f\"total accuracy: {total_accuracy}\")\n",
    "print(f\"accuracy per label: {accuracy_per_label}\")"
   ]
  },
  {
   "cell_type": "code",
   "execution_count": 9,
   "metadata": {},
   "outputs": [
    {
     "output_type": "stream",
     "name": "stdout",
     "text": [
      "total accuracy: 0.5636931930307023\naccuracy per label: {'Satisfied users': 0.8330882493363635, 'Bugs': 0.9042389982748633, 'Design & UX': 0.9363163556964523, 'Dissatisfied users': 0.9348904124413548, 'Performance': 0.9600290281305502, 'Use cases': 0.9573681161634487, 'Gaming': 0.968202738574948, 'Feature Requests': 0.9612067044796262, 'Complexity': 0.979756698432099, 'Pricing': 0.9751160170349292, 'Security & Accounts': 0.9785981195373323, 'Update': 0.9753069915780227, 'Camera & Photos': 0.9795529922527993, 'Video': 0.9796612111605523, 'Customer Support': 0.9786426802640541, 'Notifications & Alerts': 0.9800113311562235, 'Frequency': 0.9807497660561847, 'Advertising': 0.9878094583325376, 'Payment': 0.9837607980189574, 'Connectivity': 0.984862084550796, 'Devices': 0.9856068852688603, 'Audio': 0.9873511194291135, 'Sign Up & Login': 0.990521296844464, 'Location Services': 0.9937424008046394, 'Privacy': 0.9954102451476552, 'Internationalization': 0.996575189860525, 'no topic': 0.879003444169054}\n"
     ]
    }
   ],
   "source": [
    "#Train and evaluate a KNN classifier\n",
    "from skmultilearn.adapt import BRkNNaClassifier\n",
    "\n",
    "x_train = train_df[\"conversation\"].to_numpy()\n",
    "x_test = validation_df[\"conversation\"].to_numpy()\n",
    "stop_words = set(stopwords.words('english'))\n",
    "\n",
    "classifier = BRkNNaClassifier(k=3)\n",
    "\n",
    "NB_pipeline = Pipeline([\n",
    "                ('tfidf', TfidfVectorizer(stop_words=stop_words)),\n",
    "                ('clf', classifier),\n",
    "            ])\n",
    "\n",
    "NB_pipeline.fit(x_train, train_boolean_mask.to_numpy())\n",
    "\n",
    "#Save model\n",
    "dump(NB_pipeline, models_location + '/KNN.joblib')\n",
    "\n",
    "predictions = NB_pipeline.predict(x_test)\n",
    "total_accuracy = ModelEvaluator.get_total_accuracy(validation_boolean_mask, predictions)\n",
    "accuracy_per_label = ModelEvaluator.get_accuracy_per_label(remaining_topics, validation_boolean_mask.to_numpy(), predictions.todense())\n",
    "\n",
    "print(f\"total accuracy: {total_accuracy}\")\n",
    "print(f\"accuracy per label: {accuracy_per_label}\")\n",
    "\n",
    "#If you use this method please cite the relevant paper: http://scikit.ml/api/skmultilearn.adapt.brknn.html"
   ]
  }
 ]
}