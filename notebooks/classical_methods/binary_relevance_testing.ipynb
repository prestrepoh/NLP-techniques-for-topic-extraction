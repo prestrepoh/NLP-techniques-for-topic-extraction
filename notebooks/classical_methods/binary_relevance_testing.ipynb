{
 "metadata": {
  "language_info": {
   "codemirror_mode": {
    "name": "ipython",
    "version": 3
   },
   "file_extension": ".py",
   "mimetype": "text/x-python",
   "name": "python",
   "nbconvert_exporter": "python",
   "pygments_lexer": "ipython3",
   "version": "3.8.5-final"
  },
  "orig_nbformat": 2,
  "kernelspec": {
   "name": "python3",
   "display_name": "Python 3.8.5 64-bit ('NLP-seminar-env': conda)",
   "metadata": {
    "interpreter": {
     "hash": "a192f6a2a07440443dd9813f45d39f6276bab8996f4682d1023cc32088b348cc"
    }
   }
  }
 },
 "nbformat": 4,
 "nbformat_minor": 2,
 "cells": [
  {
   "cell_type": "code",
   "execution_count": 1,
   "metadata": {},
   "outputs": [],
   "source": [
    "#Mount Drive if running in Colab\n",
    "from sys import path\n",
    "import os\n",
    "\n",
    "if 'google.colab' in str(get_ipython()):\n",
    "  from google.colab import drive\n",
    "\n",
    "  root_PATH = '/content/drive/My Drive/nlp-seminar/repository'\n",
    "  drive_mount_location = '/content/drive'\n",
    "\n",
    "  drive.mount(drive_mount_location, force_remount=True)\n",
    "  path.append(root_PATH)\n",
    "else:\n",
    "  root_PATH = os.path.abspath(\"../..\")\n",
    "\n",
    "%load_ext autoreload\n",
    "%autoreload 2\n",
    "\n",
    "module_path = os.path.abspath(os.path.join('../../src'))\n",
    "if module_path not in sys.path:\n",
    "    sys.path.append(module_path)"
   ]
  },
  {
   "cell_type": "code",
   "execution_count": 2,
   "metadata": {},
   "outputs": [],
   "source": [
    "from data_cleaner import DataCleaner\n",
    "from data_processor import DataProcessor\n",
    "from model_evaluator import ModelEvaluator\n",
    "\n",
    "import pandas as pd\n",
    "from sklearn.feature_extraction.text import TfidfVectorizer\n",
    "from sklearn.naive_bayes import MultinomialNB\n",
    "from sklearn.metrics import accuracy_score\n",
    "from sklearn.multiclass import OneVsRestClassifier\n",
    "from nltk.corpus import stopwords\n",
    "from sklearn.svm import LinearSVC\n",
    "from sklearn.linear_model import LogisticRegression\n",
    "from sklearn.pipeline import Pipeline\n",
    "from wordcloud import WordCloud, STOPWORDS\n",
    "import matplotlib.pyplot as plt\n",
    "from skmultilearn.problem_transform import BinaryRelevance\n",
    "from sklearn.svm import SVC\n",
    "from joblib import dump, load"
   ]
  },
  {
   "cell_type": "code",
   "execution_count": 3,
   "metadata": {},
   "outputs": [],
   "source": [
    "#Configuration variables\n",
    "models_location = root_PATH + '/models/classical_methods'"
   ]
  },
  {
   "cell_type": "code",
   "execution_count": 4,
   "metadata": {},
   "outputs": [],
   "source": [
    "#Load datasets\n",
    "test_df = pd.read_csv(root_PATH + '/data/test.csv')\n",
    "\n",
    "#Get boolean mask of the dataset\n",
    "test_boolean_mask = test_df.iloc[:,8:]\n",
    "\n",
    "#Get topics present in the dataset\n",
    "remaining_topics = test_boolean_mask.columns.tolist()\n",
    "\n",
    "#Clean dataset for classical methods\n",
    "test_df['conversation'] = test_df['conversation'].map(lambda row : DataCleaner.clean_text_for_classical_methods(str(row)))"
   ]
  },
  {
   "cell_type": "code",
   "execution_count": 14,
   "metadata": {},
   "outputs": [
    {
     "output_type": "stream",
     "name": "stdout",
     "text": [
      "total accuracy: 0.5243524371534608\naccuracy per label: {'Satisfied users': 0.8418094201376289, 'Bugs': 0.9188294533671995, 'Design & UX': 0.9250934183806632, 'Dissatisfied users': 0.9304725346777941, 'Performance': 0.9508877133344792, 'Use cases': 0.9520080973206272, 'Gaming': 0.9569416063505402, 'Feature Requests': 0.9578773816116978, 'Complexity': 0.9697432665559015, 'Pricing': 0.9727733959729835, 'Security & Accounts': 0.9732699297850264, 'Update': 0.9720540585273316, 'Camera & Photos': 0.9742120708642871, 'Video': 0.9755807217564565, 'Customer Support': 0.9750523588538981, 'Notifications & Alerts': 0.9768475195589761, 'Frequency': 0.9789991660778284, 'Advertising': 0.9838881143810196, 'Payment': 0.9825894874879845, 'Connectivity': 0.9813672504121868, 'Devices': 0.9842573318310003, 'Audio': 0.9854986663611074, 'Sign Up & Login': 0.9879495063308061, 'Location Services': 0.992539261183151, 'Privacy': 0.9950155644252621, 'Internationalization': 0.9956712436898828, 'no topic': 0.9133378689215019}\n"
     ]
    }
   ],
   "source": [
    "#Test Multinomial Naive Bayes\n",
    "x_test = test_df[\"conversation\"]\n",
    "stop_words = set(stopwords.words('english'))\n",
    "\n",
    "NB_pipeline = load(models_location + '/naive_bayes.joblib')\n",
    "\n",
    "predictions = NB_pipeline.predict(x_test)\n",
    "total_accuracy = ModelEvaluator.get_total_accuracy(test_boolean_mask, predictions)\n",
    "accuracy_per_label = ModelEvaluator.get_accuracy_per_label(remaining_topics, test_boolean_mask.to_numpy(), predictions.toarray())\n",
    "\n",
    "print(f\"total accuracy: {total_accuracy}\")\n",
    "print(f\"accuracy per label: {accuracy_per_label}\")"
   ]
  },
  {
   "cell_type": "code",
   "execution_count": 15,
   "metadata": {},
   "outputs": [
    {
     "output_type": "stream",
     "name": "stdout",
     "text": [
      "total accuracy: 0.6859359980647913\naccuracy per label: {'Satisfied users': 0.8681320779940034, 'Bugs': 0.9654336077000936, 'Design & UX': 0.9710418934489365, 'Dissatisfied users': 0.9553119569161431, 'Performance': 0.9877394343334034, 'Use cases': 0.9615695561115036, 'Gaming': 0.9816919071354455, 'Feature Requests': 0.9686037851154441, 'Complexity': 0.9900056655781118, 'Pricing': 0.9901011528496585, 'Security & Accounts': 0.9933986466270712, 'Update': 0.9877394343334034, 'Camera & Photos': 0.9967725302217214, 'Video': 0.9979311091164881, 'Customer Support': 0.9922782626409233, 'Notifications & Alerts': 0.9981284494776846, 'Frequency': 0.9884969666876738, 'Advertising': 0.9975873549389199, 'Payment': 0.9959895345950385, 'Connectivity': 0.9957603651433264, 'Devices': 0.9961677775019256, 'Audio': 0.9981730102044064, 'Sign Up & Login': 0.9936405477149896, 'Location Services': 0.9992042727371108, 'Privacy': 0.9982748632940562, 'Internationalization': 0.9991151512836672, 'no topic': 0.8656979946220883}\n"
     ]
    }
   ],
   "source": [
    "#Test SVC\n",
    "x_test = test_df[\"conversation\"]\n",
    "stop_words = set(stopwords.words('english'))\n",
    "\n",
    "NB_pipeline = load(models_location + '/SVC.joblib')\n",
    "\n",
    "predictions = NB_pipeline.predict(x_test)\n",
    "total_accuracy = ModelEvaluator.get_total_accuracy(test_boolean_mask, predictions)\n",
    "accuracy_per_label = ModelEvaluator.get_accuracy_per_label(remaining_topics, test_boolean_mask.to_numpy(), predictions.toarray())\n",
    "\n",
    "print(f\"total accuracy: {total_accuracy}\")\n",
    "print(f\"accuracy per label: {accuracy_per_label}\")"
   ]
  },
  {
   "cell_type": "code",
   "execution_count": 16,
   "metadata": {},
   "outputs": [
    {
     "output_type": "stream",
     "name": "stdout",
     "text": [
      "total accuracy: 0.679863007594421\naccuracy per label: {'Satisfied users': 0.8718815448567373, 'Bugs': 0.9646951728001324, 'Design & UX': 0.9695841211033236, 'Dissatisfied users': 0.9558785147273202, 'Performance': 0.9860461267179752, 'Use cases': 0.9612258019339356, 'Gaming': 0.9803550853337917, 'Feature Requests': 0.9676043516732553, 'Complexity': 0.9902539324841332, 'Pricing': 0.9884078452342303, 'Security & Accounts': 0.9916098517400964, 'Update': 0.9861161507171095, 'Camera & Photos': 0.995626682963161, 'Video': 0.9975427942121982, 'Customer Support': 0.9913806822883843, 'Notifications & Alerts': 0.9970335287639491, 'Frequency': 0.9879304088764967, 'Advertising': 0.9964733367708751, 'Payment': 0.995066490970087, 'Connectivity': 0.9948245898821687, 'Devices': 0.995123783333015, 'Audio': 0.9968234567665464, 'Sign Up & Login': 0.9934686706262055, 'Location Services': 0.9983385214750874, 'Privacy': 0.9975618916665075, 'Internationalization': 0.9982684974759531, 'no topic': 0.8607574432241553}\n"
     ]
    }
   ],
   "source": [
    "#Test Multinomial logistic regression\n",
    "x_test = test_df[\"conversation\"]\n",
    "stop_words = set(stopwords.words('english'))\n",
    "\n",
    "NB_pipeline = load(models_location + '/logistic_regression.joblib')\n",
    "\n",
    "predictions = NB_pipeline.predict(x_test)\n",
    "total_accuracy = ModelEvaluator.get_total_accuracy(test_boolean_mask, predictions)\n",
    "accuracy_per_label = ModelEvaluator.get_accuracy_per_label(remaining_topics, test_boolean_mask.to_numpy(), predictions.toarray())\n",
    "\n",
    "print(f\"total accuracy: {total_accuracy}\")\n",
    "print(f\"accuracy per label: {accuracy_per_label}\")"
   ]
  },
  {
   "cell_type": "code",
   "execution_count": 17,
   "metadata": {},
   "outputs": [
    {
     "output_type": "stream",
     "name": "stdout",
     "text": [
      "total accuracy: 0.5630056846755661\naccuracy per label: {'Satisfied users': 0.8335911489665094, 'Bugs': 0.9039398048240169, 'Design & UX': 0.9348331200784269, 'Dissatisfied users': 0.9345466582637868, 'Performance': 0.9595770550452292, 'Use cases': 0.9576100172513671, 'Gaming': 0.9675661567646366, 'Feature Requests': 0.9595706892271261, 'Complexity': 0.9792156038933344, 'Pricing': 0.9748550184927016, 'Security & Accounts': 0.9782670969959705, 'Update': 0.9752306017607852, 'Camera & Photos': 0.9801322817001827, 'Video': 0.9796866744329648, 'Customer Support': 0.9784517057209607, 'Notifications & Alerts': 0.979985867883811, 'Frequency': 0.980711571147566, 'Advertising': 0.9880067986937341, 'Payment': 0.9836398474749982, 'Connectivity': 0.9845055987370217, 'Devices': 0.9861034190809032, 'Audio': 0.9875357281541037, 'Sign Up & Login': 0.9903685172099892, 'Location Services': 0.9934177440813806, 'Privacy': 0.9956585120536766, 'Internationalization': 0.996301459682091, 'no topic': 0.8800498914698546}\n"
     ]
    }
   ],
   "source": [
    "#Test Multinomial KNN\n",
    "x_test = test_df[\"conversation\"]\n",
    "stop_words = set(stopwords.words('english'))\n",
    "\n",
    "NB_pipeline = load(models_location + '/KNN.joblib')\n",
    "\n",
    "predictions = NB_pipeline.predict(x_test)\n",
    "total_accuracy = ModelEvaluator.get_total_accuracy(test_boolean_mask, predictions)\n",
    "accuracy_per_label = ModelEvaluator.get_accuracy_per_label(remaining_topics, test_boolean_mask.to_numpy(), predictions.toarray())\n",
    "\n",
    "print(f\"total accuracy: {total_accuracy}\")\n",
    "print(f\"accuracy per label: {accuracy_per_label}\")"
   ]
  }
 ]
}