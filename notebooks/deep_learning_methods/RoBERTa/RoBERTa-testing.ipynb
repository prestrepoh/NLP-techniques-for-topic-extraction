{
 "cells": [
  {
   "cell_type": "code",
   "execution_count": 1,
   "metadata": {
    "colab": {
     "base_uri": "https://localhost:8080/"
    },
    "executionInfo": {
     "elapsed": 30356,
     "status": "ok",
     "timestamp": 1609916002084,
     "user": {
      "displayName": "Pablo Restrepo",
      "photoUrl": "",
      "userId": "07173891156719463289"
     },
     "user_tz": -60
    },
    "id": "GHw1C2bEduSr",
    "outputId": "6eacd427-343a-4a51-e473-0dfa9e341fed"
   },
   "outputs": [],
   "source": [
    "#Mount Drive and install dependencies if running in Colab\n",
    "def install_dependecies():\n",
    "  !pip install transformers\n",
    "  !pip install pytorch-lightning\n",
    "\n",
    "from sys import path\n",
    "import os\n",
    "import sys\n",
    "\n",
    "if 'google.colab' in str(get_ipython()):\n",
    "  from google.colab import drive\n",
    "\n",
    "  root_PATH = '/content/drive/My Drive/nlp-seminar/repository'\n",
    "  drive_mount_location = '/content/drive'\n",
    "  module_path = root_PATH + '/src'\n",
    "  \n",
    "  drive.mount(drive_mount_location, force_remount=True)\n",
    "  path.append(root_PATH)\n",
    "\n",
    "  install_dependecies()\n",
    "else:\n",
    "  root_PATH = os.path.abspath(\"../../..\")\n",
    "  module_path = os.path.abspath(os.path.join('../../../src'))\n",
    "\n",
    "%load_ext autoreload\n",
    "%autoreload 2\n",
    "\n",
    "if module_path not in sys.path:\n",
    "    sys.path.append(module_path)"
   ]
  },
  {
   "cell_type": "code",
   "execution_count": 2,
   "metadata": {
    "id": "dpKpne9HeLBd"
   },
   "outputs": [
    {
     "name": "stderr",
     "output_type": "stream",
     "text": [
      "/home/prestrepoh/anaconda3/envs/idp2020/lib/python3.8/site-packages/tensorflow/python/data/ops/iterator_ops.py:546: DeprecationWarning: Using or importing the ABCs from 'collections' instead of from 'collections.abc' is deprecated since Python 3.3, and in 3.9 it will stop working\n",
      "  class IteratorBase(collections.Iterator, trackable.Trackable,\n",
      "/home/prestrepoh/anaconda3/envs/idp2020/lib/python3.8/site-packages/tensorflow/python/data/ops/dataset_ops.py:106: DeprecationWarning: Using or importing the ABCs from 'collections' instead of from 'collections.abc' is deprecated since Python 3.3, and in 3.9 it will stop working\n",
      "  class DatasetV2(collections.Iterable, tracking_base.Trackable,\n"
     ]
    }
   ],
   "source": [
    "from data_processor import DataProcessor\n",
    "from model_evaluator import ModelEvaluator\n",
    "from custom_dataset import CustomDataset\n",
    "from models.roberta_custom_model import RoBERTaCustomModel\n",
    "\n",
    "import pandas as pd\n",
    "from torch import cuda\n",
    "from transformers import RobertaTokenizer, RobertaModel, RobertaConfig\n",
    "import torch\n",
    "from torch.utils.data import Dataset, DataLoader, RandomSampler, SequentialSampler\n",
    "import torch.nn as nn\n",
    "import transformers\n",
    "import numpy as np\n",
    "from sklearn import metrics\n",
    "import pytorch_lightning as pl\n",
    "from pytorch_lightning import Trainer\n",
    "from sklearn.metrics import accuracy_score\n",
    "import pytorch_lightning as pl\n",
    "from pytorch_lightning import Trainer"
   ]
  },
  {
   "cell_type": "code",
   "execution_count": 3,
   "metadata": {
    "executionInfo": {
     "elapsed": 563,
     "status": "ok",
     "timestamp": 1609916080170,
     "user": {
      "displayName": "Pablo Restrepo",
      "photoUrl": "",
      "userId": "07173891156719463289"
     },
     "user_tz": -60
    },
    "id": "37z8wmO2eC0c"
   },
   "outputs": [
    {
     "name": "stderr",
     "output_type": "stream",
     "text": [
      "/home/prestrepoh/anaconda3/envs/idp2020/lib/python3.8/site-packages/ipykernel/ipkernel.py:287: DeprecationWarning: `should_run_async` will not call `transform_cell` automatically in the future. Please pass the result to `transformed_cell` argument and any exception that happen during thetransform in `preprocessing_exc_tuple` in IPython 7.17 and above.\n",
      "  and should_run_async(code)\n"
     ]
    }
   ],
   "source": [
    "# Script configuration\n",
    "MAX_LEN = 200\n",
    "TEST_BATCH_SIZE = 32\n",
    "\n",
    "model_to_use = 'roberta-base'\n",
    "model_path = root_PATH + '/notebooks/deep_learning_methods/RoBERTa/tb_logs/my_RoBERTa_model/version_0/checkpoints/epoch=1.ckpt'\n",
    "\n",
    "#Model parameters\n",
    "model_params = {\n",
    "                'test_batch_size': TEST_BATCH_SIZE\n",
    "                }\n",
    "\n",
    "gpus_to_use = [2,3]"
   ]
  },
  {
   "cell_type": "code",
   "execution_count": 4,
   "metadata": {
    "id": "wGAaYKdVeeTF"
   },
   "outputs": [],
   "source": [
    "#Load datasets\n",
    "test_df = pd.read_csv(root_PATH + '/data/test.csv')\n",
    "\n",
    "#Get boolean mask of the datasets\n",
    "test_boolean_mask = test_df.iloc[:,8:]\n",
    "\n",
    "#Get topics present in the dataset\n",
    "remaining_topics = test_boolean_mask.columns.tolist()\n",
    "\n",
    "#Create new column with the boolean mask\n",
    "test_df[\"list\"] = test_boolean_mask.values.tolist()\n",
    "\n",
    "#Remove columns not necessary from the datasets\n",
    "test_df = test_df[[\"conversation\",\"list\"]].reset_index()"
   ]
  },
  {
   "cell_type": "code",
   "execution_count": 5,
   "metadata": {
    "id": "McnvK5qTefs9"
   },
   "outputs": [],
   "source": [
    "tokenizer = RobertaTokenizer.from_pretrained(model_to_use)\n",
    "\n",
    "testing_set = CustomDataset(test_df, tokenizer, MAX_LEN)\n",
    "data_loader = DataLoader(testing_set, batch_size=TEST_BATCH_SIZE, shuffle= False, num_workers=32)"
   ]
  },
  {
   "cell_type": "code",
   "execution_count": 6,
   "metadata": {
    "id": "1btsMeJYekMW"
   },
   "outputs": [
    {
     "name": "stderr",
     "output_type": "stream",
     "text": [
      "GPU available: True, used: True\n",
      "TPU available: False, using: 0 TPU cores\n",
      "LOCAL_RANK: 0 - CUDA_VISIBLE_DEVICES: [2,3]\n"
     ]
    },
    {
     "data": {
      "application/vnd.jupyter.widget-view+json": {
       "model_id": "c7d92ba555c444caa9a0195c314ff195",
       "version_major": 2,
       "version_minor": 0
      },
      "text/plain": [
       "HBox(children=(HTML(value='Testing'), FloatProgress(value=1.0, bar_style='info', layout=Layout(flex='2'), max=…"
      ]
     },
     "metadata": {},
     "output_type": "display_data"
    },
    {
     "name": "stdout",
     "output_type": "stream",
     "text": [
      "Total accuracy: 0.878762994226203\n",
      "Accuracy per label: {'Satisfied users': 0.9414726683599742, 'Bugs': 0.988051359420456, 'Design & UX': 0.9919472400995614, 'Dissatisfied users': 0.9763509857469332, 'Performance': 0.9950792226062932, 'Use cases': 0.995181075695943, 'Gaming': 0.9960659244122758, 'Feature Requests': 0.993946106983939, 'Complexity': 0.9964033127717409, 'Pricing': 0.9956967069622953, 'Security & Accounts': 0.9982939607483656, 'Update': 0.9960468269579665, 'Camera & Photos': 0.9985931541992119, 'Video': 0.9994016130983073, 'Customer Support': 0.9970971869449803, 'Notifications & Alerts': 0.9989687374672956, 'Frequency': 0.9980520596604473, 'Advertising': 0.9990260298302236, 'Payment': 0.9986568123802431, 'Connectivity': 0.9985740567449025, 'Devices': 0.9976892080285698, 'Audio': 0.9991151512836672, 'Sign Up & Login': 0.9986377149259337, 'Location Services': 0.9996626116405349, 'Privacy': 0.9992615651000388, 'Internationalization': 0.9996944407310505, 'no topic': 0.8828360384877053}\n",
      "--------------------------------------------------------------------------------\n",
      "\n"
     ]
    },
    {
     "data": {
      "text/plain": [
       "1"
      ]
     },
     "execution_count": 6,
     "metadata": {},
     "output_type": "execute_result"
    }
   ],
   "source": [
    "model = RoBERTaCustomModel.load_from_checkpoint(\n",
    "    model_path, \n",
    "    hparams = model_params, \n",
    "    training_dataset=None, \n",
    "    validation_dataset=None, \n",
    "    labels=remaining_topics, \n",
    "    model_to_use=model_to_use\n",
    "    )\n",
    "\n",
    "trainer = pl.Trainer(gpus=gpus_to_use,\n",
    "                             accelerator='dp',\n",
    "                             #limit_train_batches=32,\n",
    "                             #limit_val_batches=32,\n",
    "                             #limit_test_batches=60,\n",
    "                             #max_epochs=200,\n",
    "                             #logger=logger,\n",
    "                             #default_root_dir=logs_path\n",
    "                             )\n",
    "\n",
    "trainer.test(ckpt_path=model_path,model=model,test_dataloaders=[data_loader])"
   ]
  }
 ],
 "metadata": {
  "colab": {
   "authorship_tag": "ABX9TyOnhPoZTUpIDGIK7OzpALfZ",
   "collapsed_sections": [],
   "name": "RoBERTa-testing.ipynb",
   "provenance": []
  },
  "kernelspec": {
   "display_name": "Python 3",
   "language": "python",
   "name": "python3"
  },
  "language_info": {
   "codemirror_mode": {
    "name": "ipython",
    "version": 3
   },
   "file_extension": ".py",
   "mimetype": "text/x-python",
   "name": "python",
   "nbconvert_exporter": "python",
   "pygments_lexer": "ipython3",
   "version": "3.8.5"
  }
 },
 "nbformat": 4,
 "nbformat_minor": 1
}
