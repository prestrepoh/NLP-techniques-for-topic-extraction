{
 "cells": [
  {
   "cell_type": "code",
   "execution_count": 1,
   "metadata": {
    "id": "dHw-GPG3bZ2R"
   },
   "outputs": [],
   "source": [
    "#Mount Drive and install dependencies if running in Colab\n",
    "def install_dependecies():\n",
    "  !pip install sentencepiece;\n",
    "  !pip install transformers\n",
    "  !pip install pytorch-lightning\n",
    "\n",
    "from sys import path\n",
    "import os\n",
    "import sys\n",
    "\n",
    "if 'google.colab' in str(get_ipython()):\n",
    "  from google.colab import drive\n",
    "\n",
    "  root_PATH = '/content/drive/My Drive/nlp-seminar/repository'\n",
    "  drive_mount_location = '/content/drive'\n",
    "  module_path = root_PATH + '/src'\n",
    "  \n",
    "  drive.mount(drive_mount_location, force_remount=True)\n",
    "  path.append(root_PATH)\n",
    "\n",
    "  install_dependecies()\n",
    "else:\n",
    "  root_PATH = os.path.abspath(\"../../..\")\n",
    "  module_path = os.path.abspath(os.path.join('../../../src'))\n",
    "\n",
    "%load_ext autoreload\n",
    "%autoreload 2\n",
    "\n",
    "if module_path not in sys.path:\n",
    "    sys.path.append(module_path)"
   ]
  },
  {
   "cell_type": "code",
   "execution_count": 2,
   "metadata": {
    "executionInfo": {
     "elapsed": 698,
     "status": "ok",
     "timestamp": 1609865133982,
     "user": {
      "displayName": "Pablo Restrepo",
      "photoUrl": "",
      "userId": "07173891156719463289"
     },
     "user_tz": -60
    },
    "id": "WsPEYTFCbdpK"
   },
   "outputs": [
    {
     "name": "stderr",
     "output_type": "stream",
     "text": [
      "/home/prestrepoh/anaconda3/envs/idp2020/lib/python3.8/site-packages/tensorflow/python/data/ops/iterator_ops.py:546: DeprecationWarning: Using or importing the ABCs from 'collections' instead of from 'collections.abc' is deprecated since Python 3.3, and in 3.9 it will stop working\n",
      "  class IteratorBase(collections.Iterator, trackable.Trackable,\n",
      "/home/prestrepoh/anaconda3/envs/idp2020/lib/python3.8/site-packages/tensorflow/python/data/ops/dataset_ops.py:106: DeprecationWarning: Using or importing the ABCs from 'collections' instead of from 'collections.abc' is deprecated since Python 3.3, and in 3.9 it will stop working\n",
      "  class DatasetV2(collections.Iterable, tracking_base.Trackable,\n"
     ]
    }
   ],
   "source": [
    "from data_processor import DataProcessor\n",
    "from model_evaluator import ModelEvaluator\n",
    "from custom_dataset import CustomDataset\n",
    "from models.xlnet_custom_model import XLNetCustomModel\n",
    "\n",
    "import pandas as pd\n",
    "from torch import cuda\n",
    "from transformers import XLNetTokenizer, XLNetModel, XLNetConfig\n",
    "import torch\n",
    "from torch.utils.data import Dataset, DataLoader, RandomSampler, SequentialSampler\n",
    "import torch.nn as nn\n",
    "import transformers\n",
    "import numpy as np\n",
    "from sklearn import metrics\n",
    "import pytorch_lightning as pl\n",
    "from pytorch_lightning import Trainer\n",
    "from sklearn.metrics import accuracy_score\n",
    "import pytorch_lightning as pl\n",
    "from pytorch_lightning import Trainer"
   ]
  },
  {
   "cell_type": "code",
   "execution_count": 3,
   "metadata": {
    "executionInfo": {
     "elapsed": 765,
     "status": "ok",
     "timestamp": 1609865156634,
     "user": {
      "displayName": "Pablo Restrepo",
      "photoUrl": "",
      "userId": "07173891156719463289"
     },
     "user_tz": -60
    },
    "id": "DTT8ITXAbkhR"
   },
   "outputs": [
    {
     "name": "stderr",
     "output_type": "stream",
     "text": [
      "/home/prestrepoh/anaconda3/envs/idp2020/lib/python3.8/site-packages/ipykernel/ipkernel.py:287: DeprecationWarning: `should_run_async` will not call `transform_cell` automatically in the future. Please pass the result to `transformed_cell` argument and any exception that happen during thetransform in `preprocessing_exc_tuple` in IPython 7.17 and above.\n",
      "  and should_run_async(code)\n"
     ]
    }
   ],
   "source": [
    "# Script configuration\n",
    "MAX_LEN = 200\n",
    "TEST_BATCH_SIZE = 32\n",
    "\n",
    "model_to_use = 'xlnet-base-cased'\n",
    "model_path = root_PATH + '/notebooks/deep_learning_methods/XLNet/tb_logs/my_XLNet_model/version_0/checkpoints/epoch=1.ckpt'\n",
    "\n",
    "#Model parameters\n",
    "model_params = {\n",
    "                'test_batch_size': TEST_BATCH_SIZE\n",
    "                }\n",
    "\n",
    "gpus_to_use = [0,1]"
   ]
  },
  {
   "cell_type": "code",
   "execution_count": 4,
   "metadata": {
    "executionInfo": {
     "elapsed": 1932,
     "status": "ok",
     "timestamp": 1609865170528,
     "user": {
      "displayName": "Pablo Restrepo",
      "photoUrl": "",
      "userId": "07173891156719463289"
     },
     "user_tz": -60
    },
    "id": "Rzl9sCUFb-ug"
   },
   "outputs": [],
   "source": [
    "#Load datasets\n",
    "test_df = pd.read_csv(root_PATH + '/data/test.csv')\n",
    "\n",
    "#Get boolean mask of the datasets\n",
    "test_boolean_mask = test_df.iloc[:,8:]\n",
    "\n",
    "#Get topics present in the dataset\n",
    "remaining_topics = test_boolean_mask.columns.tolist()\n",
    "\n",
    "#Create new column with the boolean mask\n",
    "test_df[\"list\"] = test_boolean_mask.values.tolist()\n",
    "\n",
    "#Remove columns not necessary from the datasets\n",
    "test_df = test_df[[\"conversation\",\"list\"]].reset_index()"
   ]
  },
  {
   "cell_type": "code",
   "execution_count": 5,
   "metadata": {
    "colab": {
     "base_uri": "https://localhost:8080/",
     "height": 67,
     "referenced_widgets": [
      "96b0ff3feedb4627ac0cf450204458ef",
      "a94f003d1ded4d349a938d240d2f7f71",
      "9a24b09a354e4045b51b3dac5696a6ae",
      "541724412a744ed08d95c7037ec19479",
      "5ad615c484664b87ba5543aeb6527f88",
      "da0d75381ab84068a06b73e0716e8402",
      "2c9ab33fd2014f3b96757ef14ab3361a",
      "a68b1d19d1c24cd09e6f3b0faef6d146"
     ]
    },
    "executionInfo": {
     "elapsed": 996,
     "status": "ok",
     "timestamp": 1609865171313,
     "user": {
      "displayName": "Pablo Restrepo",
      "photoUrl": "",
      "userId": "07173891156719463289"
     },
     "user_tz": -60
    },
    "id": "1txx-wGFb_dH",
    "outputId": "b9b078c1-0cb1-4905-bea6-8b52c5b9eaf1"
   },
   "outputs": [],
   "source": [
    "tokenizer = XLNetTokenizer.from_pretrained(model_to_use)\n",
    "\n",
    "testing_set = CustomDataset(test_df, tokenizer, MAX_LEN)\n",
    "data_loader = DataLoader(testing_set, batch_size=TEST_BATCH_SIZE, shuffle= False, num_workers=32)"
   ]
  },
  {
   "cell_type": "code",
   "execution_count": 6,
   "metadata": {
    "colab": {
     "base_uri": "https://localhost:8080/",
     "height": 417
    },
    "executionInfo": {
     "elapsed": 945,
     "status": "error",
     "timestamp": 1609865208440,
     "user": {
      "displayName": "Pablo Restrepo",
      "photoUrl": "",
      "userId": "07173891156719463289"
     },
     "user_tz": -60
    },
    "id": "tZaQCGp-cRog",
    "outputId": "b4889631-2709-41e8-9405-8610162cd491"
   },
   "outputs": [
    {
     "name": "stderr",
     "output_type": "stream",
     "text": [
      "GPU available: True, used: True\n",
      "TPU available: False, using: 0 TPU cores\n",
      "LOCAL_RANK: 0 - CUDA_VISIBLE_DEVICES: [0,1]\n"
     ]
    },
    {
     "data": {
      "application/vnd.jupyter.widget-view+json": {
       "model_id": "779cff0b300f46228015bf3f9fcbdfe4",
       "version_major": 2,
       "version_minor": 0
      },
      "text/plain": [
       "HBox(children=(HTML(value='Testing'), FloatProgress(value=1.0, bar_style='info', layout=Layout(flex='2'), max=…"
      ]
     },
     "metadata": {},
     "output_type": "display_data"
    },
    {
     "name": "stdout",
     "output_type": "stream",
     "text": [
      "Total accuracy: 0.8780054618719325\n",
      "Accuracy per label: {'Satisfied users': 0.9412371330901591, 'Bugs': 0.9877585317877127, 'Design & UX': 0.9918390211918084, 'Dissatisfied users': 0.9749505057642482, 'Performance': 0.9949455404261278, 'Use cases': 0.9952829287855929, 'Gaming': 0.9959513396864198, 'Feature Requests': 0.993888814621011, 'Complexity': 0.9964988000432876, 'Pricing': 0.9956457804174703, 'Security & Accounts': 0.9984531062009434, 'Update': 0.9965115316794938, 'Camera & Photos': 0.9986759098345523, 'Video': 0.9992870283724513, 'Customer Support': 0.9971290160354958, 'Notifications & Alerts': 0.998879616013852, 'Frequency': 0.997924743298385, 'Advertising': 0.9990960538293578, 'Payment': 0.9986759098345523, 'Connectivity': 0.9985931541992119, 'Devices': 0.9977337687552916, 'Audio': 0.999102419647461, 'Sign Up & Login': 0.9988414211052333, 'Location Services': 0.9997580989120817, 'Privacy': 0.9992870283724513, 'Internationalization': 0.9996817090948443, 'no topic': 0.8779440826772928}\n",
      "--------------------------------------------------------------------------------\n",
      "\n"
     ]
    },
    {
     "data": {
      "text/plain": [
       "1"
      ]
     },
     "execution_count": 6,
     "metadata": {},
     "output_type": "execute_result"
    }
   ],
   "source": [
    "model = XLNetCustomModel.load_from_checkpoint(\n",
    "    model_path, \n",
    "    hparams = model_params, \n",
    "    training_dataset=None, \n",
    "    validation_dataset=None, \n",
    "    labels=remaining_topics, \n",
    "    model_to_use=model_to_use\n",
    "    )\n",
    "\n",
    "trainer = pl.Trainer(gpus=gpus_to_use,\n",
    "                             accelerator='dp',\n",
    "                             #limit_train_batches=32,\n",
    "                             #limit_val_batches=32,\n",
    "                             #limit_test_batches=4,\n",
    "                             #max_epochs=200,\n",
    "                             #logger=logger,\n",
    "                             #default_root_dir=logs_path\n",
    "                             )\n",
    "\n",
    "trainer.test(ckpt_path=model_path,model=model,test_dataloaders=[data_loader])"
   ]
  }
 ],
 "metadata": {
  "colab": {
   "authorship_tag": "ABX9TyN4IEft68I4Z01j6l07nCMx",
   "collapsed_sections": [],
   "name": "XLNet-testing.ipynb",
   "provenance": []
  },
  "kernelspec": {
   "display_name": "Python 3",
   "language": "python",
   "name": "python3"
  },
  "language_info": {
   "codemirror_mode": {
    "name": "ipython",
    "version": 3
   },
   "file_extension": ".py",
   "mimetype": "text/x-python",
   "name": "python",
   "nbconvert_exporter": "python",
   "pygments_lexer": "ipython3",
   "version": "3.8.5"
  },
  "widgets": {
   "application/vnd.jupyter.widget-state+json": {
    "2c9ab33fd2014f3b96757ef14ab3361a": {
     "model_module": "@jupyter-widgets/controls",
     "model_name": "DescriptionStyleModel",
     "state": {
      "_model_module": "@jupyter-widgets/controls",
      "_model_module_version": "1.5.0",
      "_model_name": "DescriptionStyleModel",
      "_view_count": null,
      "_view_module": "@jupyter-widgets/base",
      "_view_module_version": "1.2.0",
      "_view_name": "StyleView",
      "description_width": ""
     }
    },
    "541724412a744ed08d95c7037ec19479": {
     "model_module": "@jupyter-widgets/controls",
     "model_name": "HTMLModel",
     "state": {
      "_dom_classes": [],
      "_model_module": "@jupyter-widgets/controls",
      "_model_module_version": "1.5.0",
      "_model_name": "HTMLModel",
      "_view_count": null,
      "_view_module": "@jupyter-widgets/controls",
      "_view_module_version": "1.5.0",
      "_view_name": "HTMLView",
      "description": "",
      "description_tooltip": null,
      "layout": "IPY_MODEL_a68b1d19d1c24cd09e6f3b0faef6d146",
      "placeholder": "​",
      "style": "IPY_MODEL_2c9ab33fd2014f3b96757ef14ab3361a",
      "value": " 798k/798k [00:36&lt;00:00, 21.6kB/s]"
     }
    },
    "5ad615c484664b87ba5543aeb6527f88": {
     "model_module": "@jupyter-widgets/controls",
     "model_name": "ProgressStyleModel",
     "state": {
      "_model_module": "@jupyter-widgets/controls",
      "_model_module_version": "1.5.0",
      "_model_name": "ProgressStyleModel",
      "_view_count": null,
      "_view_module": "@jupyter-widgets/base",
      "_view_module_version": "1.2.0",
      "_view_name": "StyleView",
      "bar_color": null,
      "description_width": "initial"
     }
    },
    "96b0ff3feedb4627ac0cf450204458ef": {
     "model_module": "@jupyter-widgets/controls",
     "model_name": "HBoxModel",
     "state": {
      "_dom_classes": [],
      "_model_module": "@jupyter-widgets/controls",
      "_model_module_version": "1.5.0",
      "_model_name": "HBoxModel",
      "_view_count": null,
      "_view_module": "@jupyter-widgets/controls",
      "_view_module_version": "1.5.0",
      "_view_name": "HBoxView",
      "box_style": "",
      "children": [
       "IPY_MODEL_9a24b09a354e4045b51b3dac5696a6ae",
       "IPY_MODEL_541724412a744ed08d95c7037ec19479"
      ],
      "layout": "IPY_MODEL_a94f003d1ded4d349a938d240d2f7f71"
     }
    },
    "9a24b09a354e4045b51b3dac5696a6ae": {
     "model_module": "@jupyter-widgets/controls",
     "model_name": "FloatProgressModel",
     "state": {
      "_dom_classes": [],
      "_model_module": "@jupyter-widgets/controls",
      "_model_module_version": "1.5.0",
      "_model_name": "FloatProgressModel",
      "_view_count": null,
      "_view_module": "@jupyter-widgets/controls",
      "_view_module_version": "1.5.0",
      "_view_name": "ProgressView",
      "bar_style": "success",
      "description": "Downloading: 100%",
      "description_tooltip": null,
      "layout": "IPY_MODEL_da0d75381ab84068a06b73e0716e8402",
      "max": 798011,
      "min": 0,
      "orientation": "horizontal",
      "style": "IPY_MODEL_5ad615c484664b87ba5543aeb6527f88",
      "value": 798011
     }
    },
    "a68b1d19d1c24cd09e6f3b0faef6d146": {
     "model_module": "@jupyter-widgets/base",
     "model_name": "LayoutModel",
     "state": {
      "_model_module": "@jupyter-widgets/base",
      "_model_module_version": "1.2.0",
      "_model_name": "LayoutModel",
      "_view_count": null,
      "_view_module": "@jupyter-widgets/base",
      "_view_module_version": "1.2.0",
      "_view_name": "LayoutView",
      "align_content": null,
      "align_items": null,
      "align_self": null,
      "border": null,
      "bottom": null,
      "display": null,
      "flex": null,
      "flex_flow": null,
      "grid_area": null,
      "grid_auto_columns": null,
      "grid_auto_flow": null,
      "grid_auto_rows": null,
      "grid_column": null,
      "grid_gap": null,
      "grid_row": null,
      "grid_template_areas": null,
      "grid_template_columns": null,
      "grid_template_rows": null,
      "height": null,
      "justify_content": null,
      "justify_items": null,
      "left": null,
      "margin": null,
      "max_height": null,
      "max_width": null,
      "min_height": null,
      "min_width": null,
      "object_fit": null,
      "object_position": null,
      "order": null,
      "overflow": null,
      "overflow_x": null,
      "overflow_y": null,
      "padding": null,
      "right": null,
      "top": null,
      "visibility": null,
      "width": null
     }
    },
    "a94f003d1ded4d349a938d240d2f7f71": {
     "model_module": "@jupyter-widgets/base",
     "model_name": "LayoutModel",
     "state": {
      "_model_module": "@jupyter-widgets/base",
      "_model_module_version": "1.2.0",
      "_model_name": "LayoutModel",
      "_view_count": null,
      "_view_module": "@jupyter-widgets/base",
      "_view_module_version": "1.2.0",
      "_view_name": "LayoutView",
      "align_content": null,
      "align_items": null,
      "align_self": null,
      "border": null,
      "bottom": null,
      "display": null,
      "flex": null,
      "flex_flow": null,
      "grid_area": null,
      "grid_auto_columns": null,
      "grid_auto_flow": null,
      "grid_auto_rows": null,
      "grid_column": null,
      "grid_gap": null,
      "grid_row": null,
      "grid_template_areas": null,
      "grid_template_columns": null,
      "grid_template_rows": null,
      "height": null,
      "justify_content": null,
      "justify_items": null,
      "left": null,
      "margin": null,
      "max_height": null,
      "max_width": null,
      "min_height": null,
      "min_width": null,
      "object_fit": null,
      "object_position": null,
      "order": null,
      "overflow": null,
      "overflow_x": null,
      "overflow_y": null,
      "padding": null,
      "right": null,
      "top": null,
      "visibility": null,
      "width": null
     }
    },
    "da0d75381ab84068a06b73e0716e8402": {
     "model_module": "@jupyter-widgets/base",
     "model_name": "LayoutModel",
     "state": {
      "_model_module": "@jupyter-widgets/base",
      "_model_module_version": "1.2.0",
      "_model_name": "LayoutModel",
      "_view_count": null,
      "_view_module": "@jupyter-widgets/base",
      "_view_module_version": "1.2.0",
      "_view_name": "LayoutView",
      "align_content": null,
      "align_items": null,
      "align_self": null,
      "border": null,
      "bottom": null,
      "display": null,
      "flex": null,
      "flex_flow": null,
      "grid_area": null,
      "grid_auto_columns": null,
      "grid_auto_flow": null,
      "grid_auto_rows": null,
      "grid_column": null,
      "grid_gap": null,
      "grid_row": null,
      "grid_template_areas": null,
      "grid_template_columns": null,
      "grid_template_rows": null,
      "height": null,
      "justify_content": null,
      "justify_items": null,
      "left": null,
      "margin": null,
      "max_height": null,
      "max_width": null,
      "min_height": null,
      "min_width": null,
      "object_fit": null,
      "object_position": null,
      "order": null,
      "overflow": null,
      "overflow_x": null,
      "overflow_y": null,
      "padding": null,
      "right": null,
      "top": null,
      "visibility": null,
      "width": null
     }
    }
   }
  }
 },
 "nbformat": 4,
 "nbformat_minor": 1
}
