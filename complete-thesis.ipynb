{
  "nbformat": 4,
  "nbformat_minor": 0,
  "metadata": {
    "language_info": {
      "codemirror_mode": {
        "name": "ipython",
        "version": 3
      },
      "file_extension": ".py",
      "mimetype": "text/x-python",
      "name": "python",
      "nbconvert_exporter": "python",
      "pygments_lexer": "ipython3",
      "version": "3.8.5-final"
    },
    "orig_nbformat": 2,
    "kernelspec": {
      "name": "python3",
      "display_name": "Python 3"
    },
    "colab": {
      "name": "complete-thesis.ipynb",
      "provenance": [],
      "toc_visible": true
    }
  },
  "cells": [
    {
      "cell_type": "markdown",
      "metadata": {
        "id": "ELRQUlMkwkdi"
      },
      "source": [
        "[![Open In Colab](https://colab.research.google.com/assets/colab-badge.svg)](https://colab.research.google.com/github/prestrepoh/NLP-techniques-for-topic-extraction/blob/main/complete-thesis.ipynb)"
      ]
    },
    {
      "cell_type": "markdown",
      "metadata": {
        "id": "g8xH3i1Qwkdl"
      },
      "source": [
        "# Topic extraction: TODO: Find a nice title when I decide on the topic"
      ]
    },
    {
      "cell_type": "markdown",
      "metadata": {
        "id": "eVFESvPuwkdo"
      },
      "source": [
        "## 1. Introduction"
      ]
    },
    {
      "cell_type": "markdown",
      "metadata": {
        "id": "5OpL1r0DxNg-"
      },
      "source": [
        "### a. Context"
      ]
    },
    {
      "cell_type": "markdown",
      "metadata": {
        "id": "g4L0gNnpxV0t"
      },
      "source": [
        "### b. Problem"
      ]
    },
    {
      "cell_type": "markdown",
      "metadata": {
        "id": "TCSsa4gmxXdG"
      },
      "source": [
        "### c. Contribution"
      ]
    },
    {
      "cell_type": "markdown",
      "metadata": {
        "id": "OhdnIbO8xZAO"
      },
      "source": [
        "### d. Outline"
      ]
    },
    {
      "cell_type": "markdown",
      "metadata": {
        "id": "t69Tx9bLxkuR"
      },
      "source": [
        "## 2. Related Work"
      ]
    },
    {
      "cell_type": "markdown",
      "metadata": {
        "id": "vhAsa-h0xwS9"
      },
      "source": [
        "## 3. Fundamentals"
      ]
    },
    {
      "cell_type": "markdown",
      "metadata": {
        "id": "0yxvOMmQx0Kt"
      },
      "source": [
        "## 4. Solution Approach"
      ]
    },
    {
      "cell_type": "markdown",
      "metadata": {
        "id": "_foJB41hx54U"
      },
      "source": [
        "## 5. Evaluation"
      ]
    },
    {
      "cell_type": "markdown",
      "metadata": {
        "id": "QNbxsFYxx9yu"
      },
      "source": [
        "## 6. Summary"
      ]
    },
    {
      "cell_type": "markdown",
      "metadata": {
        "id": "34m0N9ytyB_9"
      },
      "source": [
        "## 7. Outlook"
      ]
    },
    {
      "cell_type": "markdown",
      "metadata": {
        "id": "vok6BOvWxs8N"
      },
      "source": [
        ""
      ]
    }
  ]
}