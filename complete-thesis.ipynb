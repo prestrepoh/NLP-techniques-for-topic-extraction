{
  "nbformat": 4,
  "nbformat_minor": 0,
  "metadata": {
    "language_info": {
      "codemirror_mode": {
        "name": "ipython",
        "version": 3
      },
      "file_extension": ".py",
      "mimetype": "text/x-python",
      "name": "python",
      "nbconvert_exporter": "python",
      "pygments_lexer": "ipython3",
      "version": "3.8.5-final"
    },
    "orig_nbformat": 2,
    "kernelspec": {
      "name": "python3",
      "display_name": "Python 3"
    },
    "colab": {
      "name": "complete-thesis.ipynb",
      "provenance": []
    }
  },
  "cells": [
    {
      "cell_type": "markdown",
      "metadata": {
        "id": "ELRQUlMkwkdi"
      },
      "source": [
        "[![Open In Colab](https://colab.research.google.com/assets/colab-badge.svg)](https://colab.research.google.com/github/prestrepoh/NLP-techniques-for-topic-extraction/blob/main/complete-thesis.ipynb)"
      ]
    },
    {
      "cell_type": "markdown",
      "metadata": {
        "id": "g8xH3i1Qwkdl"
      },
      "source": [
        "# Topic extraction: TODO: Find a nice title when I decide on the topic"
      ]
    },
    {
      "cell_type": "markdown",
      "metadata": {
        "id": "eVFESvPuwkdo"
      },
      "source": [
        "## Introduction test"
      ]
    }
  ]
}